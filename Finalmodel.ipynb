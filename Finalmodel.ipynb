{
 "cells": [
  {
   "cell_type": "code",
   "execution_count": 2,
   "id": "f823f757",
   "metadata": {},
   "outputs": [],
   "source": [
    "import numpy as np\n",
    "import cv2\n",
    "from tensorflow.keras.models import load_model\n",
    "from tensorflow.keras.preprocessing.image import img_to_array\n",
    "import matplotlib.pyplot as plt\n",
    "from tensorflow.keras.models import Sequential\n",
    "from tensorflow.keras.layers import Conv2D, MaxPooling2D, Flatten, Dense, Dropout, BatchNormalization\n",
    "from tensorflow.keras.optimizers import Adam\n",
    "from sklearn.metrics import confusion_matrix, classification_report\n",
    "import seaborn as sns\n",
    "import pandas as pd\n",
    "from sklearn.model_selection import train_test_split"
   ]
  },
  {
   "cell_type": "code",
   "execution_count": 3,
   "id": "6d36bba0",
   "metadata": {},
   "outputs": [],
   "source": [
    "# Load the dataset and preprocess as before\n",
    "data = pd.read_csv('fer_2013csv.csv')\n",
    "pixels = data['pixels'].tolist()\n"
   ]
  },
  {
   "cell_type": "code",
   "execution_count": 4,
   "id": "6a19f795",
   "metadata": {},
   "outputs": [],
   "source": [
    "faces = []\n",
    "for pixel_sequence in pixels:\n",
    "    face = np.asarray([int(pixel) for pixel in pixel_sequence.split(' ')], dtype='float32')\n",
    "    face = face.reshape(48, 48)  # Resize to 48x48\n",
    "    faces.append(face)\n",
    "\n",
    "faces = np.asarray(faces)\n",
    "faces = np.expand_dims(faces, -1)\n",
    "faces /= 255.0\n",
    "\n",
    "emotions = pd.get_dummies(data['emotion']).values\n",
    "X_train, X_test, y_train, y_test = train_test_split(faces, emotions, test_size=0.2, random_state=42)"
   ]
  },
  {
   "cell_type": "code",
   "execution_count": 5,
   "id": "11f0b6b4",
   "metadata": {},
   "outputs": [
    {
     "name": "stdout",
     "output_type": "stream",
     "text": [
      "WARNING:tensorflow:From C:\\Users\\dhana\\anaconda3\\Lib\\site-packages\\keras\\src\\backend.py:873: The name tf.get_default_graph is deprecated. Please use tf.compat.v1.get_default_graph instead.\n",
      "\n",
      "WARNING:tensorflow:From C:\\Users\\dhana\\anaconda3\\Lib\\site-packages\\keras\\src\\layers\\normalization\\batch_normalization.py:979: The name tf.nn.fused_batch_norm is deprecated. Please use tf.compat.v1.nn.fused_batch_norm instead.\n",
      "\n"
     ]
    }
   ],
   "source": [
    "# Improved CNN Architecture with Batch Normalization and Dropout\n",
    "model = Sequential()\n",
    "\n",
    "model.add(Conv2D(64, (3, 3), activation='relu', input_shape=(48, 48, 1)))\n",
    "model.add(BatchNormalization())\n",
    "model.add(MaxPooling2D((2, 2)))\n",
    "model.add(Dropout(0.25))\n",
    "\n",
    "model.add(Conv2D(128, (3, 3), activation='relu'))\n",
    "model.add(BatchNormalization())\n",
    "model.add(MaxPooling2D((2, 2)))\n",
    "model.add(Dropout(0.25))\n",
    "\n",
    "model.add(Conv2D(256, (3, 3), activation='relu'))\n",
    "model.add(BatchNormalization())\n",
    "model.add(MaxPooling2D((2, 2)))\n",
    "model.add(Dropout(0.25))\n",
    "\n",
    "model.add(Flatten())\n",
    "\n",
    "model.add(Dense(128, activation='relu'))\n",
    "model.add(BatchNormalization())\n",
    "model.add(Dropout(0.5))\n",
    "\n",
    "model.add(Dense(7, activation='softmax'))"
   ]
  },
  {
   "cell_type": "code",
   "execution_count": 6,
   "id": "d50b8cc2",
   "metadata": {},
   "outputs": [],
   "source": [
    "# Compile the model\n",
    "custom_optimizer = Adam(learning_rate=0.0001)\n",
    "model.compile(optimizer=custom_optimizer, loss='categorical_crossentropy', metrics=['accuracy'])"
   ]
  },
  {
   "cell_type": "code",
   "execution_count": 7,
   "id": "6a5af2e8",
   "metadata": {},
   "outputs": [
    {
     "name": "stdout",
     "output_type": "stream",
     "text": [
      "Epoch 1/50\n",
      "WARNING:tensorflow:From C:\\Users\\dhana\\anaconda3\\Lib\\site-packages\\keras\\src\\utils\\tf_utils.py:492: The name tf.ragged.RaggedTensorValue is deprecated. Please use tf.compat.v1.ragged.RaggedTensorValue instead.\n",
      "\n",
      "WARNING:tensorflow:From C:\\Users\\dhana\\anaconda3\\Lib\\site-packages\\keras\\src\\engine\\base_layer_utils.py:384: The name tf.executing_eagerly_outside_functions is deprecated. Please use tf.compat.v1.executing_eagerly_outside_functions instead.\n",
      "\n",
      "449/449 [==============================] - 70s 153ms/step - loss: 2.4913 - accuracy: 0.2215 - val_loss: 2.4332 - val_accuracy: 0.2488\n",
      "Epoch 2/50\n",
      "449/449 [==============================] - 69s 154ms/step - loss: 2.0998 - accuracy: 0.2948 - val_loss: 1.6435 - val_accuracy: 0.3945\n",
      "Epoch 3/50\n",
      "449/449 [==============================] - 69s 154ms/step - loss: 1.9202 - accuracy: 0.3426 - val_loss: 1.5022 - val_accuracy: 0.4418\n",
      "Epoch 4/50\n",
      "449/449 [==============================] - 69s 153ms/step - loss: 1.7676 - accuracy: 0.3811 - val_loss: 1.4470 - val_accuracy: 0.4663\n",
      "Epoch 5/50\n",
      "449/449 [==============================] - 68s 152ms/step - loss: 1.6575 - accuracy: 0.4077 - val_loss: 1.3960 - val_accuracy: 0.4834\n",
      "Epoch 6/50\n",
      "449/449 [==============================] - 68s 152ms/step - loss: 1.5721 - accuracy: 0.4288 - val_loss: 1.3592 - val_accuracy: 0.4971\n",
      "Epoch 7/50\n",
      "449/449 [==============================] - 68s 151ms/step - loss: 1.5196 - accuracy: 0.4455 - val_loss: 1.3340 - val_accuracy: 0.5026\n",
      "Epoch 8/50\n",
      "449/449 [==============================] - 68s 151ms/step - loss: 1.4442 - accuracy: 0.4664 - val_loss: 1.3141 - val_accuracy: 0.5114\n",
      "Epoch 9/50\n",
      "449/449 [==============================] - 68s 151ms/step - loss: 1.3827 - accuracy: 0.4817 - val_loss: 1.2737 - val_accuracy: 0.5263\n",
      "Epoch 10/50\n",
      "449/449 [==============================] - 68s 152ms/step - loss: 1.3448 - accuracy: 0.4966 - val_loss: 1.2511 - val_accuracy: 0.5355\n",
      "Epoch 11/50\n",
      "449/449 [==============================] - 68s 151ms/step - loss: 1.3066 - accuracy: 0.5117 - val_loss: 1.2378 - val_accuracy: 0.5403\n",
      "Epoch 12/50\n",
      "449/449 [==============================] - 68s 151ms/step - loss: 1.2844 - accuracy: 0.5154 - val_loss: 1.2140 - val_accuracy: 0.5469\n",
      "Epoch 13/50\n",
      "449/449 [==============================] - 68s 151ms/step - loss: 1.2456 - accuracy: 0.5303 - val_loss: 1.2007 - val_accuracy: 0.5514\n",
      "Epoch 14/50\n",
      "449/449 [==============================] - 68s 151ms/step - loss: 1.2264 - accuracy: 0.5410 - val_loss: 1.1776 - val_accuracy: 0.5613\n",
      "Epoch 15/50\n",
      "449/449 [==============================] - 68s 151ms/step - loss: 1.2034 - accuracy: 0.5485 - val_loss: 1.1671 - val_accuracy: 0.5667\n",
      "Epoch 16/50\n",
      "449/449 [==============================] - 68s 151ms/step - loss: 1.1789 - accuracy: 0.5583 - val_loss: 1.1483 - val_accuracy: 0.5717\n",
      "Epoch 17/50\n",
      "449/449 [==============================] - 68s 152ms/step - loss: 1.1575 - accuracy: 0.5638 - val_loss: 1.1456 - val_accuracy: 0.5747\n",
      "Epoch 18/50\n",
      "449/449 [==============================] - 68s 151ms/step - loss: 1.1367 - accuracy: 0.5709 - val_loss: 1.1902 - val_accuracy: 0.5632\n",
      "Epoch 19/50\n",
      "449/449 [==============================] - 68s 150ms/step - loss: 1.1266 - accuracy: 0.5795 - val_loss: 1.1329 - val_accuracy: 0.5750\n",
      "Epoch 20/50\n",
      "449/449 [==============================] - 68s 151ms/step - loss: 1.1008 - accuracy: 0.5860 - val_loss: 1.1098 - val_accuracy: 0.5869\n",
      "Epoch 21/50\n",
      "449/449 [==============================] - 68s 151ms/step - loss: 1.0799 - accuracy: 0.5973 - val_loss: 1.1273 - val_accuracy: 0.5819\n",
      "Epoch 22/50\n",
      "449/449 [==============================] - 68s 150ms/step - loss: 1.0636 - accuracy: 0.5990 - val_loss: 1.1146 - val_accuracy: 0.5851\n",
      "Epoch 23/50\n",
      "449/449 [==============================] - 68s 152ms/step - loss: 1.0509 - accuracy: 0.6060 - val_loss: 1.1097 - val_accuracy: 0.5828\n",
      "Epoch 24/50\n",
      "449/449 [==============================] - 68s 152ms/step - loss: 1.0332 - accuracy: 0.6165 - val_loss: 1.1161 - val_accuracy: 0.5848\n",
      "Epoch 25/50\n",
      "449/449 [==============================] - 68s 152ms/step - loss: 1.0188 - accuracy: 0.6182 - val_loss: 1.0802 - val_accuracy: 0.5985\n",
      "Epoch 26/50\n",
      "449/449 [==============================] - 68s 151ms/step - loss: 1.0015 - accuracy: 0.6257 - val_loss: 1.0976 - val_accuracy: 0.5977\n",
      "Epoch 27/50\n",
      "449/449 [==============================] - 69s 154ms/step - loss: 0.9847 - accuracy: 0.6322 - val_loss: 1.0655 - val_accuracy: 0.6056\n",
      "Epoch 28/50\n",
      "449/449 [==============================] - 70s 156ms/step - loss: 0.9677 - accuracy: 0.6403 - val_loss: 1.0839 - val_accuracy: 0.6021\n",
      "Epoch 29/50\n",
      "449/449 [==============================] - 70s 155ms/step - loss: 0.9516 - accuracy: 0.6473 - val_loss: 1.0793 - val_accuracy: 0.6046\n",
      "Epoch 30/50\n",
      "449/449 [==============================] - 69s 154ms/step - loss: 0.9344 - accuracy: 0.6539 - val_loss: 1.0815 - val_accuracy: 0.6063\n",
      "Epoch 31/50\n",
      "449/449 [==============================] - 72s 160ms/step - loss: 0.9191 - accuracy: 0.6571 - val_loss: 1.0954 - val_accuracy: 0.6017\n",
      "Epoch 32/50\n",
      "449/449 [==============================] - 71s 158ms/step - loss: 0.9116 - accuracy: 0.6604 - val_loss: 1.0898 - val_accuracy: 0.6048\n",
      "Epoch 33/50\n",
      "449/449 [==============================] - 71s 159ms/step - loss: 0.8904 - accuracy: 0.6671 - val_loss: 1.0815 - val_accuracy: 0.6105\n",
      "Epoch 34/50\n",
      "449/449 [==============================] - 71s 157ms/step - loss: 0.8801 - accuracy: 0.6719 - val_loss: 1.0841 - val_accuracy: 0.6073\n",
      "Epoch 35/50\n",
      "449/449 [==============================] - 69s 154ms/step - loss: 0.8654 - accuracy: 0.6796 - val_loss: 1.0904 - val_accuracy: 0.6070\n",
      "Epoch 36/50\n",
      "449/449 [==============================] - 70s 155ms/step - loss: 0.8542 - accuracy: 0.6849 - val_loss: 1.0886 - val_accuracy: 0.6099\n",
      "Epoch 37/50\n",
      "449/449 [==============================] - 69s 154ms/step - loss: 0.8436 - accuracy: 0.6857 - val_loss: 1.0779 - val_accuracy: 0.6186\n",
      "Epoch 38/50\n",
      "449/449 [==============================] - 69s 153ms/step - loss: 0.8275 - accuracy: 0.6895 - val_loss: 1.0613 - val_accuracy: 0.6219\n",
      "Epoch 39/50\n",
      "449/449 [==============================] - 69s 154ms/step - loss: 0.8076 - accuracy: 0.6986 - val_loss: 1.0638 - val_accuracy: 0.6147\n",
      "Epoch 40/50\n",
      "449/449 [==============================] - 70s 155ms/step - loss: 0.7968 - accuracy: 0.7041 - val_loss: 1.0796 - val_accuracy: 0.6234\n",
      "Epoch 41/50\n",
      "449/449 [==============================] - 68s 152ms/step - loss: 0.7900 - accuracy: 0.7081 - val_loss: 1.0796 - val_accuracy: 0.6199\n",
      "Epoch 42/50\n",
      "449/449 [==============================] - 69s 153ms/step - loss: 0.7738 - accuracy: 0.7125 - val_loss: 1.1116 - val_accuracy: 0.6092\n",
      "Epoch 43/50\n",
      "449/449 [==============================] - 69s 154ms/step - loss: 0.7694 - accuracy: 0.7143 - val_loss: 1.1020 - val_accuracy: 0.6172\n",
      "Epoch 44/50\n",
      "449/449 [==============================] - 68s 152ms/step - loss: 0.7669 - accuracy: 0.7147 - val_loss: 1.0826 - val_accuracy: 0.6226\n",
      "Epoch 45/50\n",
      "449/449 [==============================] - 69s 155ms/step - loss: 0.7401 - accuracy: 0.7277 - val_loss: 1.1185 - val_accuracy: 0.6082\n",
      "Epoch 46/50\n",
      "449/449 [==============================] - 69s 154ms/step - loss: 0.7310 - accuracy: 0.7276 - val_loss: 1.0745 - val_accuracy: 0.6282\n",
      "Epoch 47/50\n",
      "449/449 [==============================] - 70s 155ms/step - loss: 0.7237 - accuracy: 0.7336 - val_loss: 1.0826 - val_accuracy: 0.6294\n",
      "Epoch 48/50\n",
      "449/449 [==============================] - 70s 156ms/step - loss: 0.7006 - accuracy: 0.7414 - val_loss: 1.1057 - val_accuracy: 0.6208\n",
      "Epoch 49/50\n",
      "449/449 [==============================] - 69s 154ms/step - loss: 0.6956 - accuracy: 0.7412 - val_loss: 1.0964 - val_accuracy: 0.6190\n",
      "Epoch 50/50\n",
      "449/449 [==============================] - 69s 154ms/step - loss: 0.6876 - accuracy: 0.7459 - val_loss: 1.1476 - val_accuracy: 0.6089\n"
     ]
    },
    {
     "data": {
      "text/plain": [
       "<keras.src.callbacks.History at 0x1c402aa5310>"
      ]
     },
     "execution_count": 7,
     "metadata": {},
     "output_type": "execute_result"
    }
   ],
   "source": [
    "# Train the model\n",
    "model.fit(X_train, y_train, epochs=50, batch_size=64, validation_data=(X_test, y_test))"
   ]
  },
  {
   "cell_type": "code",
   "execution_count": 8,
   "id": "3d080a58",
   "metadata": {},
   "outputs": [
    {
     "name": "stdout",
     "output_type": "stream",
     "text": [
      "225/225 [==============================] - 6s 26ms/step - loss: 1.1476 - accuracy: 0.6089\n",
      "Test Accuracy: 60.89%\n"
     ]
    }
   ],
   "source": [
    "# Evaluate the model on the test set\n",
    "accuracy = model.evaluate(X_test, y_test)[1]\n",
    "print(f\"Test Accuracy: {accuracy * 100:.2f}%\")"
   ]
  },
  {
   "cell_type": "code",
   "execution_count": 15,
   "id": "6902d407",
   "metadata": {},
   "outputs": [
    {
     "name": "stdout",
     "output_type": "stream",
     "text": [
      "225/225 [==============================] - 22s 99ms/step - loss: 1.1476 - accuracy: 0.6089\n",
      "Test Loss: 1.1476\n",
      "Test Accuracy: 60.89%\n"
     ]
    }
   ],
   "source": [
    "# Evaluate the model\n",
    "loss, accuracy = model.evaluate(X_test, y_test, verbose=1)\n",
    "print(f\"Test Loss: {loss:.4f}\")\n",
    "print(f\"Test Accuracy: {accuracy * 100:.2f}%\")\n"
   ]
  },
  {
   "cell_type": "code",
   "execution_count": 16,
   "id": "7809ef18",
   "metadata": {},
   "outputs": [
    {
     "name": "stdout",
     "output_type": "stream",
     "text": [
      "225/225 [==============================] - 27s 120ms/step\n"
     ]
    }
   ],
   "source": [
    "# Generate predictions\n",
    "y_pred = model.predict(X_test)\n"
   ]
  },
  {
   "cell_type": "code",
   "execution_count": 18,
   "id": "66efebe5",
   "metadata": {},
   "outputs": [],
   "source": [
    "# Convert predictions and true labels to categorical labels\n",
    "y_true = np.argmax(y_test, axis=1)\n",
    "y_pred = np.argmax(y_pred, axis=1)"
   ]
  },
  {
   "cell_type": "code",
   "execution_count": 19,
   "id": "e8545500",
   "metadata": {},
   "outputs": [],
   "source": [
    "# Compute the confusion matrix\n",
    "conf_matrix = confusion_matrix(y_true, y_pred)"
   ]
  },
  {
   "cell_type": "code",
   "execution_count": 20,
   "id": "de83ca13",
   "metadata": {},
   "outputs": [
    {
     "data": {
      "image/png": "[encoded data removed]",
      "text/plain": [
       "<Figure size 1000x700 with 2 Axes>"
      ]
     },
     "metadata": {},
     "output_type": "display_data"
    }
   ],
   "source": [
    "\n",
    "# Plot the confusion matrix\n",
    "plt.figure(figsize=(10, 7))\n",
    "plt.imshow(conf_matrix, cmap='Blues', interpolation='nearest')\n",
    "plt.title('Confusion Matrix')\n",
    "plt.colorbar()\n",
    "plt.xlabel('Predicted Label')\n",
    "plt.ylabel('True Label')\n",
    "plt.xticks(ticks=np.arange(7), labels=['Angry', 'Disgust', 'Fear', 'Happy', 'Sad', 'Surprise', 'Neutral'])\n",
    "plt.yticks(ticks=np.arange(7), labels=['Angry', 'Disgust', 'Fear', 'Happy', 'Sad', 'Surprise', 'Neutral'])\n",
    "plt.show()"
   ]
  },
  {
   "cell_type": "code",
   "execution_count": 21,
   "id": "419fc93a",
   "metadata": {},
   "outputs": [
    {
     "name": "stdout",
     "output_type": "stream",
     "text": [
      "Classification Report:\n",
      "              precision    recall  f1-score   support\n",
      "\n",
      "       Angry       0.51      0.56      0.53       985\n",
      "     Disgust       0.81      0.45      0.58       102\n",
      "        Fear       0.54      0.36      0.43      1043\n",
      "       Happy       0.82      0.79      0.80      1765\n",
      "         Sad       0.42      0.61      0.50      1210\n",
      "    Surprise       0.80      0.73      0.76       795\n",
      "     Neutral       0.59      0.54      0.57      1278\n",
      "\n",
      "    accuracy                           0.61      7178\n",
      "   macro avg       0.64      0.58      0.60      7178\n",
      "weighted avg       0.63      0.61      0.61      7178\n",
      "\n"
     ]
    }
   ],
   "source": [
    "# Print classification report\n",
    "classification_rep = classification_report(y_true, y_pred, target_names=['Angry', 'Disgust', 'Fear', 'Happy', 'Sad', 'Surprise', 'Neutral'])\n",
    "print(\"Classification Report:\")\n",
    "print(classification_rep)"
   ]
  },
  {
   "cell_type": "code",
   "execution_count": 23,
   "id": "014d66b0",
   "metadata": {},
   "outputs": [],
   "source": [
    "# Save the model for future use\n",
    "model.save('emotiondetection_model.h5')"
   ]
  },
  {
   "cell_type": "code",
   "execution_count": null,
   "id": "bfaf4713",
   "metadata": {},
   "outputs": [],
   "source": []
  }
 ],
 "metadata": {
  "kernelspec": {
   "display_name": "Python 3 (ipykernel)",
   "language": "python",
   "name": "python3"
  },
  "language_info": {
   "codemirror_mode": {
    "name": "ipython",
    "version": 3
   },
   "file_extension": ".py",
   "mimetype": "text/x-python",
   "name": "python",
   "nbconvert_exporter": "python",
   "pygments_lexer": "ipython3",
   "version": "3.11.5"
  }
 },
 "nbformat": 4,
 "nbformat_minor": 5
}
